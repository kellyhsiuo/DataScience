{
 "cells": [
  {
   "cell_type": "markdown",
   "metadata": {
    "colab_type": "text",
    "id": "2X0xWGxdzgeg"
   },
   "source": [
    "**主要目標:**\n",
    "    作業目標(1): 繪製模型殘差 圖型\n",
    "\n",
    "    更改初始值設定\n",
    "溫馨叮嚀: 不熟悉使用沒關係, 提出來, 有專家陪跑"
   ]
  },
  {
   "cell_type": "markdown",
   "metadata": {
    "colab_type": "text",
    "id": "hQS6nhFj3DmX"
   },
   "source": [
    "# Seaborn圖樣式\n",
    "有五種預設seaborn主題：darkgrid，whitegrid，dark，white，和ticks。它們各自適合不同的應用和個人喜好。默認主題是darkgrid"
   ]
  },
  {
   "cell_type": "code",
   "execution_count": 11,
   "metadata": {
    "colab": {
     "base_uri": "https://localhost:8080/",
     "height": 34
    },
    "colab_type": "code",
    "id": "xSdq9M6N3DmY",
    "outputId": "85579a75-a87f-4b28-a8ee-76d05d758645"
   },
   "outputs": [
    {
     "data": {
      "image/png": "[encoded data removed]",
      "text/plain": [
       "<Figure size 432x288 with 1 Axes>"
      ]
     },
     "metadata": {},
     "output_type": "display_data"
    }
   ],
   "source": [
    "import numpy as np\n",
    "import seaborn as sns\n",
    "\n",
    "#設定圖形樣式 - whitegrid\n",
    "# use sns.set\n",
    "\n",
    "# 利用 NUMPY 去建立資料集\n",
    "# np.random.RandomState 設定數學式\n",
    "nr = np.random.RandomState(0)\n",
    "x = nr.normal(2, 1, 75)\n",
    "y = 2 + 1.5 * x + nr.normal(0, 2, 75)\n",
    "\n",
    "sns.set_style(\"whitegrid\")\n",
    "data = np.random.normal(x,y)\n",
    "sns.boxplot(data);\n",
    "# 畫圖\n",
    "# sns.residplot()"
   ]
  },
  {
   "cell_type": "markdown",
   "metadata": {
    "colab_type": "text",
    "id": "W4wzEsUrkegZ"
   },
   "source": [
    "繪製單變數分佈: \n",
    "快速檢視海出生單變數分佈的最便捷方式是distplot() 函數。默認情況下,這將繪製直方圖並適合內核密度估計值(KDE)。"
   ]
  },
  {
   "cell_type": "markdown",
   "metadata": {
    "colab_type": "text",
    "id": "gj86RGc6k0fV"
   },
   "source": [
    "作業目標(2)\n",
    "(1)使用 distplot()使用簡單的規則來正確猜測預設情況下正確的數位,但嘗試更多或更少的 bin 可能會顯示資料中的其他特徵:\n",
    "(2)有無kde對圖形分布的影響"
   ]
  },
  {
   "cell_type": "code",
   "execution_count": 12,
   "metadata": {
    "colab": {
     "base_uri": "https://localhost:8080/",
     "height": 268
    },
    "colab_type": "code",
    "id": "DunieTjAk3Ly",
    "outputId": "f857c268-3e0d-4aa2-db01-8bf87de71cf8"
   },
   "outputs": [
    {
     "data": {
      "image/png": "[encoded data removed]",
      "text/plain": [
       "<Figure size 432x288 with 1 Axes>"
      ]
     },
     "metadata": {},
     "output_type": "display_data"
    }
   ],
   "source": [
    "# bin: 指的是特徵值, \n",
    "# kde: on/off\n",
    "# sns.distplot();\n",
    "sns.distplot(data, bins=20, kde=False, rug=True);"
   ]
  },
  {
   "cell_type": "code",
   "execution_count": null,
   "metadata": {},
   "outputs": [],
   "source": []
  }
 ],
 "metadata": {
  "colab": {
   "collapsed_sections": [],
   "name": "Data Visualization_Day-3_作業.ipynb",
   "provenance": []
  },
  "kernelspec": {
   "display_name": "Python 3",
   "language": "python",
   "name": "python3"
  },
  "language_info": {
   "codemirror_mode": {
    "name": "ipython",
    "version": 3
   },
   "file_extension": ".py",
   "mimetype": "text/x-python",
   "name": "python",
   "nbconvert_exporter": "python",
   "pygments_lexer": "ipython3",
   "version": "3.6.9"
  }
 },
 "nbformat": 4,
 "nbformat_minor": 1
}
