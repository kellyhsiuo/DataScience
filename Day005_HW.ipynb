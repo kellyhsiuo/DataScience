{
 "cells": [
  {
   "cell_type": "markdown",
   "metadata": {
    "id": "oef8c2jr-PZY"
   },
   "source": [
    "作業目標<br>\n",
    "計算有缺失值的資料，統計量實作<br>\n",
    "作業重點<br>\n",
    "當遇到缺失值有函式可以處理，不須額外寫程式刪除<br>\n",
    "計算統計量時不能出現缺失值"
   ]
  },
  {
   "cell_type": "markdown",
   "metadata": {
    "id": "4YgL8NF4-Ru3"
   },
   "source": [
    "題目:<br>\n",
    "english_score = np.array([55,89,76,65,48,70])<br>\n",
    "math_score = np.array([60,85,60,68,np.nan,60])<br>\n",
    "chinese_score = np.array([65,90,82,72,66,77])<br>\n",
    "上3列共六位同學的英文、數學、國文成績，第一個元素代表第一位同學，舉例第一位同學英文55分、數學60分、國文65分，今天第五位同學因某原因沒來考試，導致數學成績缺值，運用上列數據回答下列問題。<br>\n",
    "1. 請計算各科成績平均、最大值、最小值、標準差，其中數學缺一筆資料可忽略?\n",
    "2. 第五位同學補考數學後成績為55，請計算補考後數學成績平均、最大值、最小值、標準差?\n",
    "3. 用補考後資料找出與國文成績相關係數最高的學科?"
   ]
  },
  {
   "cell_type": "code",
   "execution_count": 1,
   "metadata": {
    "executionInfo": {
     "elapsed": 617,
     "status": "ok",
     "timestamp": 1609854566856,
     "user": {
      "displayName": "献竤黃",
      "photoUrl": "",
      "userId": "07529243043474362942"
     },
     "user_tz": -480
    },
    "id": "QwsKU8qO-RK7"
   },
   "outputs": [],
   "source": [
    "import numpy as np"
   ]
  },
  {
   "cell_type": "code",
   "execution_count": 2,
   "metadata": {
    "executionInfo": {
     "elapsed": 1016,
     "status": "ok",
     "timestamp": 1609854567261,
     "user": {
      "displayName": "献竤黃",
      "photoUrl": "",
      "userId": "07529243043474362942"
     },
     "user_tz": -480
    },
    "id": "B5BqDQAe_czh"
   },
   "outputs": [],
   "source": [
    "english_score = np.array([55,89,76,65,48,70])\n",
    "math_score = np.array([60,85,60,68,np.nan,60])\n",
    "chinese_score = np.array([65,90,82,72,66,77])"
   ]
  },
  {
   "cell_type": "code",
   "execution_count": 3,
   "metadata": {
    "executionInfo": {
     "elapsed": 1005,
     "status": "ok",
     "timestamp": 1609854567262,
     "user": {
      "displayName": "献竤黃",
      "photoUrl": "",
      "userId": "07529243043474362942"
     },
     "user_tz": -480
    },
    "id": "K3tUA6u9aI3N"
   },
   "outputs": [
    {
     "name": "stdout",
     "output_type": "stream",
     "text": [
      "english_mean :  67.16666666666667\n",
      "english_max :  89\n",
      "english_min :  48\n",
      "english_std :  13.433995020924426\n",
      "math_mean :  nan\n",
      "math_max :  nan\n",
      "math_min :  nan\n",
      "math_std :  nan\n",
      "chinese_mean :  75.33333333333333\n",
      "chinese_max :  90\n",
      "chinese_min :  65\n",
      "chinese_std :  8.825468196582484\n"
     ]
    }
   ],
   "source": [
    "#1. 請計算各科成績平均、最大值、最小值、標準差，其中數學缺一筆資料可忽略?\n",
    "\n",
    "#english\n",
    "english_mean = np.mean(english_score)\n",
    "print('english_mean : ',english_mean)\n",
    "english_max = np.max(english_score)\n",
    "print('english_max : ',english_max)\n",
    "english_min = np.min(english_score)\n",
    "print('english_min : ',english_min)\n",
    "english_std = np.std(english_score)\n",
    "print('english_std : ',english_std)\n",
    "\n",
    "#math\n",
    "math_mean = np.mean(math_score)\n",
    "print('math_mean : ',math_mean)\n",
    "math_max = np.max(math_score)\n",
    "print('math_max : ',math_max)\n",
    "math_min = np.min(math_score)\n",
    "print('math_min : ',math_min)\n",
    "math_std = np.std(math_score)\n",
    "print('math_std : ',math_std)\n",
    "\n",
    "#chinese\n",
    "chinese_mean = np.mean(chinese_score)\n",
    "print('chinese_mean : ',chinese_mean)\n",
    "chinese_max = np.max(chinese_score)\n",
    "print('chinese_max : ',chinese_max)\n",
    "chinese_min = np.min(chinese_score)\n",
    "print('chinese_min : ',chinese_min)\n",
    "chinese_std = np.std(chinese_score)\n",
    "print('chinese_std : ',chinese_std)"
   ]
  },
  {
   "cell_type": "code",
   "execution_count": 4,
   "metadata": {
    "executionInfo": {
     "elapsed": 996,
     "status": "ok",
     "timestamp": 1609854567262,
     "user": {
      "displayName": "献竤黃",
      "photoUrl": "",
      "userId": "07529243043474362942"
     },
     "user_tz": -480
    },
    "id": "mXjDzvSrbLlf"
   },
   "outputs": [
    {
     "name": "stdout",
     "output_type": "stream",
     "text": [
      "math_mean :  64.66666666666667\n",
      "math_max :  85.0\n",
      "math_min :  55.0\n",
      "math_std :  9.860132971832694\n"
     ]
    }
   ],
   "source": [
    "#2. 第五位同學補考數學後成績為55，請計算補考後數學成績平均、最大值、最小值、標準差?\n",
    "\n",
    "math_score[np.isnan(math_score)] = 55  #找出nan，並填入55\n",
    "\n",
    "#math\n",
    "math_mean = np.mean(math_score)\n",
    "print('math_mean : ',math_mean)\n",
    "math_max = np.max(math_score)\n",
    "print('math_max : ',math_max)\n",
    "math_min = np.min(math_score)\n",
    "print('math_min : ',math_min)\n",
    "math_std = np.std(math_score)\n",
    "print('math_std : ',math_std)"
   ]
  },
  {
   "cell_type": "code",
   "execution_count": 5,
   "metadata": {
    "executionInfo": {
     "elapsed": 989,
     "status": "ok",
     "timestamp": 1609854567264,
     "user": {
      "displayName": "献竤黃",
      "photoUrl": "",
      "userId": "07529243043474362942"
     },
     "user_tz": -480
    },
    "id": "SaGolKx0cKoU"
   },
   "outputs": [],
   "source": [
    "#3. 用補考後資料找出與國文成績相關係數最高的學科?"
   ]
  },
  {
   "cell_type": "code",
   "execution_count": 6,
   "metadata": {
    "executionInfo": {
     "elapsed": 987,
     "status": "ok",
     "timestamp": 1609854567264,
     "user": {
      "displayName": "献竤黃",
      "photoUrl": "",
      "userId": "07529243043474362942"
     },
     "user_tz": -480
    },
    "id": "fTNlLZ9Pzyiy"
   },
   "outputs": [
    {
     "data": {
      "text/plain": [
       "array([[1.        , 0.74056803],\n",
       "       [0.74056803, 1.        ]])"
      ]
     },
     "execution_count": 6,
     "metadata": {},
     "output_type": "execute_result"
    }
   ],
   "source": [
    "np.corrcoef(chinese_score,math_score)"
   ]
  },
  {
   "cell_type": "code",
   "execution_count": 7,
   "metadata": {},
   "outputs": [
    {
     "data": {
      "text/plain": [
       "array([[1.        , 0.97792828],\n",
       "       [0.97792828, 1.        ]])"
      ]
     },
     "execution_count": 7,
     "metadata": {},
     "output_type": "execute_result"
    }
   ],
   "source": [
    "np.corrcoef(chinese_score,english_score)"
   ]
  },
  {
   "cell_type": "code",
   "execution_count": null,
   "metadata": {},
   "outputs": [],
   "source": [
    "# 英文與國文的相關性最高"
   ]
  }
 ],
 "metadata": {
  "colab": {
   "authorship_tag": "ABX9TyPtywwDR7TsGGEOMGYLDT5h",
   "collapsed_sections": [],
   "name": "作業Hong題目.ipynb",
   "provenance": []
  },
  "kernelspec": {
   "display_name": "Python 3",
   "language": "python",
   "name": "python3"
  },
  "language_info": {
   "codemirror_mode": {
    "name": "ipython",
    "version": 3
   },
   "file_extension": ".py",
   "mimetype": "text/x-python",
   "name": "python",
   "nbconvert_exporter": "python",
   "pygments_lexer": "ipython3",
   "version": "3.6.9"
  }
 },
 "nbformat": 4,
 "nbformat_minor": 1
}
