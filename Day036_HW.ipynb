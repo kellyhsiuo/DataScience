{
 "cells": [
  {
   "cell_type": "markdown",
   "metadata": {},
   "source": [
    "## 作業\n",
    "在鐵達尼資料集中，   \n",
    "可以用今天範例中提到的三種辨識異常值的方法，  \n",
    "以 training data 為資料集。  \n",
    "1.觀察票價是否有異常值的現象?  \n",
    "2.你覺得找出的異常是真的異常? 你覺得需要做處理嗎?  \n",
    "(試著講出自己的想法。)  \n"
   ]
  },
  {
   "cell_type": "markdown",
   "metadata": {
    "colab_type": "text",
    "id": "Z9YHBcEGYdBV"
   },
   "source": [
    "### 資料\n",
    "鐵達尼號 train 資料集\n"
   ]
  },
  {
   "cell_type": "code",
   "execution_count": 1,
   "metadata": {
    "colab": {
     "base_uri": "https://localhost:8080/",
     "height": 34
    },
    "colab_type": "code",
    "executionInfo": {
     "elapsed": 1558,
     "status": "ok",
     "timestamp": 1578021044012,
     "user": {
      "displayName": "Mora chen",
      "photoUrl": "https://lh3.googleusercontent.com/a-/AAuE7mB40f7sDArbZ5_DYq02nNcnLD0Ryaf7AhsASSQeLQ=s64",
      "userId": "03171203089166907199"
     },
     "user_tz": -480
    },
    "id": "yz28_IgkYdBW",
    "outputId": "a12f486c-18b3-4fb5-d06c-f162aebd9444"
   },
   "outputs": [],
   "source": [
    "# library\n",
    "import matplotlib.pyplot as plt\n",
    "import numpy as np\n",
    "import pandas as pd\n",
    "import seaborn  as sns\n",
    "from scipy import stats\n",
    "import math\n",
    "import statistics\n",
    "#讓圖可以在 jupyter notebook顯示\n",
    "%matplotlib inline"
   ]
  },
  {
   "cell_type": "code",
   "execution_count": 2,
   "metadata": {},
   "outputs": [],
   "source": [
    "df_train = pd.read_csv(\"Titanic_train.csv\")"
   ]
  },
  {
   "cell_type": "markdown",
   "metadata": {},
   "source": [
    "### 探索性分析:\n",
    "*  觀察-是否有異常值  \n",
    "我們來觀察一下 Fare 變數吧!!"
   ]
  },
  {
   "cell_type": "markdown",
   "metadata": {},
   "source": [
    "## Q1:觀察票價是否有異常值的現象?"
   ]
  },
  {
   "cell_type": "markdown",
   "metadata": {},
   "source": [
    "## 方法1\n",
    "* 進行一個描述性的統計（規定範圍），從而檢視哪些值是不合理的（範圍以外的值）。  \n"
   ]
  },
  {
   "cell_type": "code",
   "execution_count": 4,
   "metadata": {},
   "outputs": [
    {
     "name": "stdout",
     "output_type": "stream",
     "text": [
      "count    891.000000\n",
      "mean      32.204208\n",
      "std       49.693429\n",
      "min        0.000000\n",
      "25%        7.910400\n",
      "50%       14.454200\n",
      "75%       31.000000\n",
      "max      512.329200\n",
      "Name: Fare, dtype: float64\n"
     ]
    }
   ],
   "source": [
    "df_train.head(5)\n",
    "print(df_train['Fare'].describe())\n",
    "\n",
    "# 票價為0的可能是異常值"
   ]
  },
  {
   "cell_type": "markdown",
   "metadata": {},
   "source": [
    "## 方法 2\n",
    "* 進行3倍標準差原則的計算，從而檢視哪些值是可疑的異常值。  \n"
   ]
  },
  {
   "cell_type": "code",
   "execution_count": 5,
   "metadata": {},
   "outputs": [
    {
     "name": "stdout",
     "output_type": "stream",
     "text": [
      "[ 27  88 118 258 299 311 341 377 380 438 527 557 679 689 700 716 730 737\n",
      " 742 779]\n",
      "27     263.0000\n",
      "88     263.0000\n",
      "118    247.5208\n",
      "258    512.3292\n",
      "299    247.5208\n",
      "311    262.3750\n",
      "341    263.0000\n",
      "377    211.5000\n",
      "380    227.5250\n",
      "438    263.0000\n",
      "527    221.7792\n",
      "557    227.5250\n",
      "679    512.3292\n",
      "689    211.3375\n",
      "700    227.5250\n",
      "716    227.5250\n",
      "730    211.3375\n",
      "737    512.3292\n",
      "742    262.3750\n",
      "779    211.3375\n",
      "Name: Fare, dtype: float64\n"
     ]
    }
   ],
   "source": [
    "# import numpy as np\n",
    "\n",
    "# # 創建一個函數，計算在這個資料中， ys:資料，times : 幾倍標準差，找出在這樣條件下的異常值。\n",
    "# def outliers_z_score(ys,times):\n",
    "#     mean_y = np.mean(ys)\n",
    "#     stdev_y = np.std(ys)\n",
    "#     z_scores = [(y - mean_y) / stdev_y for y in ys]\n",
    "#     return np.where(np.abs(z_scores) > times)\n",
    "\n",
    "# out_index=outliers_z_score(df_train['Age'],3)\n",
    "# print(out_index[0])\n",
    "# print(\"用第二種方法的找出的 outlier 有哪些?\")\n",
    "# print(df_train.loc[out_index[0],'Age'])\n",
    "\n",
    "import numpy as np\n",
    "\n",
    "def outlier(ys,times):\n",
    "    mean_y = np.mean(ys)\n",
    "    stdev_y = np.std(ys)\n",
    "    z_scores = [(y-mean_y) / stdev_y for y in ys]\n",
    "    return np.where(np.abs(z_scores) > times)\n",
    "\n",
    "out_index = outlier(df_train['Fare'],3)\n",
    "print(out_index[0])\n",
    "print(df_train.loc[out_index[0],'Fare'])"
   ]
  },
  {
   "cell_type": "markdown",
   "metadata": {},
   "source": [
    "## 方法3-盒鬚圖判別法(IQR method)"
   ]
  },
  {
   "cell_type": "code",
   "execution_count": 10,
   "metadata": {},
   "outputs": [],
   "source": [
    "import numpy as np\n",
    "# 透過一個函數來判斷是否為異常值\n",
    "# def outliers_iqr(ys,times):\n",
    "#     #注意 使用 np.percentile 要去除 nan 要不然計算出來會錯誤，所以我們採用下者的程式 np.nanpercentile\n",
    "#     #quartile_1, quartile_3 = np.percentile(ys, [25, 75])\n",
    "#     quartile_1, quartile_3 = np.nanpercentile(ys, [25, 75])\n",
    "#     iqr = quartile_3 - quartile_1\n",
    "#     lower_bound = quartile_1 - (iqr * times)\n",
    "#     upper_bound = quartile_3 + (iqr * times)\n",
    "#     return np.where((ys > upper_bound) | (ys < lower_bound))\n",
    "\n",
    "\n",
    "def outlier_iqr(ys,times):\n",
    "    quartile_1,quartile_3 = np.nanpercentile(ys,[25,75])\n",
    "    iqr = quartile_3 - quartile_1\n",
    "    lower = quartile_1 - (iqr * times)\n",
    "    upper = quartile_3 + (iqr * times)\n",
    "    return np.where((ys>upper) | (ys<lower))\n",
    "    "
   ]
  },
  {
   "cell_type": "code",
   "execution_count": 12,
   "metadata": {},
   "outputs": [
    {
     "name": "stdout",
     "output_type": "stream",
     "text": [
      "(array([ 27,  31,  34,  61,  62,  88, 102, 118, 124, 139, 195, 215, 224,\n",
      "       230, 245, 256, 257, 258, 262, 268, 269, 275, 290, 291, 297, 299,\n",
      "       305, 306, 307, 310, 311, 318, 319, 325, 332, 334, 337, 341, 373,\n",
      "       375, 377, 380, 390, 393, 412, 435, 438, 445, 453, 484, 486, 496,\n",
      "       498, 504, 505, 520, 527, 537, 544, 550, 557, 558, 581, 585, 587,\n",
      "       591, 609, 627, 659, 660, 679, 689, 698, 700, 708, 716, 730, 737,\n",
      "       741, 742, 759, 763, 765, 779, 789, 802, 820, 829, 835, 849, 856,\n",
      "       879], dtype=int64),)\n",
      "27     263.0000\n",
      "31     146.5208\n",
      "34      82.1708\n",
      "61      80.0000\n",
      "62      83.4750\n",
      "         ...   \n",
      "829     80.0000\n",
      "835     83.1583\n",
      "849     89.1042\n",
      "856    164.8667\n",
      "879     83.1583\n",
      "Name: Fare, Length: 92, dtype: float64\n"
     ]
    }
   ],
   "source": [
    "# out_index3=outliers_iqr(df_train['Age'],2)\n",
    "# print(out_index3)\n",
    "# print(\"用第三種方法的找出的 outlier 有哪些?(2 倍IQR)\")\n",
    "# print(df_train.loc[out_index3[0],'Age'])\n",
    "\n",
    "out_index3 = outlier_iqr(df_train['Fare'],2)\n",
    "print(out_index3)\n",
    "print(df_train.loc[out_index3[0],'Fare'])"
   ]
  },
  {
   "cell_type": "code",
   "execution_count": 13,
   "metadata": {},
   "outputs": [
    {
     "data": {
      "image/png": "[encoded data removed]",
      "text/plain": [
       "<Figure size 432x288 with 1 Axes>"
      ]
     },
     "metadata": {
      "needs_background": "light"
     },
     "output_type": "display_data"
    }
   ],
   "source": [
    "# plt.boxplot(df_train['Age'][~np.isnan(df_train['Age'])],whis=2)    #作圖\n",
    "# plt.title('Box Plot')\n",
    "# plt.show()\n",
    "\n",
    "plt.boxplot(df_train['Fare'][~np.isnan(df_train['Fare'])],whis=2)\n",
    "plt.show()"
   ]
  },
  {
   "cell_type": "markdown",
   "metadata": {},
   "source": [
    "## Q2:你覺得找出的異常是真的異常? 你覺得需要做處理嗎?\n"
   ]
  },
  {
   "cell_type": "code",
   "execution_count": null,
   "metadata": {},
   "outputs": [],
   "source": [
    "我覺得不一定，因為依照上述的方法，異常值的落差太大，可能需要額外做處理"
   ]
  }
 ],
 "metadata": {
  "colab": {
   "name": "Day33.YOLO 細節理解 - 網路輸出的後處理_HW.ipynb",
   "provenance": []
  },
  "kernelspec": {
   "display_name": "Python 3",
   "language": "python",
   "name": "python3"
  },
  "language_info": {
   "codemirror_mode": {
    "name": "ipython",
    "version": 3
   },
   "file_extension": ".py",
   "mimetype": "text/x-python",
   "name": "python",
   "nbconvert_exporter": "python",
   "pygments_lexer": "ipython3",
   "version": "3.8.5"
  }
 },
 "nbformat": 4,
 "nbformat_minor": 1
}
